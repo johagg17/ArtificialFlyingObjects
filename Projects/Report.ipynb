{
 "cells": [
  {
   "cell_type": "markdown",
   "metadata": {},
   "source": [
    "# Report\n",
    "\n",
    "Summary your findings and motivate your choice of approach. A better motivation show your understanding of the lab. Dont forget to include the result from part 1!"
   ]
  },
  {
   "cell_type": "markdown",
   "metadata": {},
   "source": [
    "**Name:** Johannes Hägglund \\\n",
    "**Date:** \n",
    "\n",
    "## Introduction\n",
    "This project \n",
    "\n",
    "## Project plan\n",
    "<ol>\n",
    "    <li>Do research on other works and other techniques (not done) \n",
    "        <ul>\n",
    "            <li>ConvLSTMs</li>\n",
    "        </ul>\n",
    "    </li>\n",
    "    <li>Read Pytorch documentation for RNN (not done)</li>\n",
    "    <li>Do research about different metrics (not done)</li>\n",
    "    <li>Do research about different loss functions (not done)</li>\n",
    "    <li>Research about different augmentation techniques (not done)</li>\n",
    "    <li>Implement an initial model (not done)</li>\n",
    "</ol>\n",
    "\n",
    "\n",
    "## Method\n",
    "\n",
    "### ConvLSTM\n",
    "<a href='https://medium.com/neuronio/an-introduction-to-convlstm-55c9025563a7' >ConvLSTM</a> is a neural network which combines the architectures of Convolutional (Conv) operations and Long short-term memory (LSTM). The purpose with this technique is to deal with images sequentially. For this project, ConvLSTM will be applied to predict the next 5 frames. So, given 5 frames predict the next 5 frames.\n",
    "\\\n",
    "\\\n",
    "ConvLSTM is simply an architecture which contains recurrent layers to operate on each image sequantially. The difference between the original RNN is that the matrix multiplication is replaced with convolutions. \n",
    "\\\n",
    "\\\n",
    "ConvLSTM for next car crash prediction <a href=\"https://towardsdatascience.com/spatial-temporal-convlstm-for-crash-prediction-411909ed2cfa\">URL</a>.\n",
    "\n",
    "### Metrics\n",
    "For this project, at least two metrics will be selected in order to evaluate the proposed model. \n",
    "\\\n",
    "There exists a lot of metrics that can be applied, some of the most common metrics is briefly described in the following table:\n",
    "\n",
    "<ol>\n",
    "    <li></li>\n",
    "</ol>\n",
    "\n",
    "### Loss functions\n",
    "\n",
    "## Results\n",
    "\n",
    "\n",
    "\n",
    "## Discussion & Conclusion\n",
    "\n",
    "## References\n"
   ]
  },
  {
   "cell_type": "code",
   "execution_count": null,
   "metadata": {},
   "outputs": [],
   "source": []
  }
 ],
 "metadata": {
  "kernelspec": {
   "display_name": "Python 3",
   "language": "python",
   "name": "python3"
  },
  "language_info": {
   "codemirror_mode": {
    "name": "ipython",
    "version": 3
   },
   "file_extension": ".py",
   "mimetype": "text/x-python",
   "name": "python",
   "nbconvert_exporter": "python",
   "pygments_lexer": "ipython3",
   "version": "3.8.3"
  }
 },
 "nbformat": 4,
 "nbformat_minor": 5
}
