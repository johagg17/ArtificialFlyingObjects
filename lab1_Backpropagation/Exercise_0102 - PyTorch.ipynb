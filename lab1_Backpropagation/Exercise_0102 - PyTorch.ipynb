{
 "cells": [
  {
   "cell_type": "markdown",
   "metadata": {
    "toc-hr-collapsed": true
   },
   "source": [
    "<center><h1 style=\"font-size:40px;\">Exercise I:<br> Backpropagation\n",
    "</h1></center>\n",
    "\n",
    "---"
   ]
  },
  {
   "cell_type": "markdown",
   "metadata": {},
   "source": [
    "# Introduction"
   ]
  },
  {
   "cell_type": "markdown",
   "metadata": {},
   "source": [
    "Welcome to the second part of the first lab for Deep Learning!\n",
    "\n",
    "In this lab we will scratch the surface of pytorch and deep learning. Pytorch is a power tool for data scientists to train neural networks. Pytorch have a lot of features which can be used too train and create custom dataloaders, models and trainers in order to solve most problems related to neural networks.\n",
    "\n",
    "For this lab all tasks include **TODO's** these are expected to be done before the deadline. The labs also include **Question** which should be answered and included in the *Report.ipynb*. Some sections does not contain any **TODO's** but is good to understand them. \n",
    "\n",
    "There is a file called config.py. This file contains most of the settings that is used during the lab. We wont use every setting at all time but the config help us to keep organised.\n",
    "\n",
    "---"
   ]
  },
  {
   "cell_type": "markdown",
   "metadata": {},
   "source": [
    "# Lab 1"
   ]
  },
  {
   "cell_type": "markdown",
   "metadata": {},
   "source": [
    "The following code allows us to edit imported files without restarting the kernel for the notebook"
   ]
  },
  {
   "cell_type": "code",
   "execution_count": 1,
   "metadata": {},
   "outputs": [],
   "source": [
    "%load_ext autoreload\n",
    "%autoreload 2\n",
    "# Hacky solution to access the global utils package\n",
    "import sys,os\n",
    "sys.path.append(os.path.dirname(os.path.realpath('')))"
   ]
  },
  {
   "cell_type": "code",
   "execution_count": 2,
   "metadata": {},
   "outputs": [],
   "source": [
    "# local modules\n",
    "from config import LabConfig\n",
    "from sklearn.datasets import load_digits\n",
    "from sklearn import preprocessing\n",
    "import numpy as np\n",
    "import matplotlib.pyplot as plt\n",
    "from sklearn.model_selection import train_test_split\n",
    "import pandas as pd\n",
    "\n",
    "# Torch packages\n",
    "import torch\n",
    "import torchvision\n",
    "import torch.nn as nn\n",
    "import torch.nn.functional as F"
   ]
  },
  {
   "cell_type": "markdown",
   "metadata": {},
   "source": [
    "## Load config"
   ]
  },
  {
   "cell_type": "code",
   "execution_count": 3,
   "metadata": {},
   "outputs": [],
   "source": [
    "cfg = LabConfig()"
   ]
  },
  {
   "cell_type": "markdown",
   "metadata": {},
   "source": [
    "## Define neural network"
   ]
  },
  {
   "cell_type": "markdown",
   "metadata": {},
   "source": [
    "In order to create a neural network model we need to implement the following class which inherits nn.Module. \n",
    "\n",
    "The first example is a single perceptron.\n",
    "\n",
    "If we assume that the trainer uses CrossEntropyLoss from pytorch we do not need to define an activation function before the output since CrossEntropyLoss combines nn.LogSoftmax() and nn.NLLLoss() according to the pytorch documentation.\n",
    "\n",
    "The input_size for this lab is the image size (cfg.IMAGE_WIDTH*cfg.IMAGE_HEIGHT) and the output size are the number of classes to predict."
   ]
  },
  {
   "cell_type": "code",
   "execution_count": 4,
   "metadata": {},
   "outputs": [],
   "source": [
    "# Example 1\n",
    "class Perceptron(nn.Module):\n",
    "    def __init__(self,  input_size, output_size):\n",
    "        super(Perceptron, self).__init__()\n",
    "        self.fc = nn.Linear(input_size,output_size)\n",
    "        \n",
    "    def forward(self, x):\n",
    "        x = x.view(x.size(0), -1) # Flatten\n",
    "        output = self.fc(x)\n",
    "        return output"
   ]
  },
  {
   "cell_type": "markdown",
   "metadata": {},
   "source": [
    "An architecture with 1 or more hidden layers are known as a deep/multilayer feedforward model or multilayer perceptron model (MLP). \n",
    "\n",
    "## Task 1\n",
    "\n",
    "**TODO:** Implement the MLP architecture to have 1 or more hidden layers."
   ]
  },
  {
   "cell_type": "code",
   "execution_count": 27,
   "metadata": {},
   "outputs": [],
   "source": [
    "class MLP(nn.Module):\n",
    "    def __init__(self, input_size, output_size, hidden_size, hidden_layers=1):\n",
    "        super(MLP, self).__init__()\n",
    "        # Simple MLP with one hidden layer\n",
    "        modules = []\n",
    "        \n",
    "        \n",
    "        modules.append(nn.Linear(input_size, hidden_size)) # Add input\n",
    "    \n",
    "        for hidden in range(hidden_layers):\n",
    "            modules.append(nn.ReLU())\n",
    "            modules.append(nn.Linear(hidden_size, output_size)) if hidden == hidden_layers - 1 else modules.append(nn.Linear(hidden_size, hidden_size))\n",
    "        \n",
    "        \n",
    "        self.model = nn.Sequential(*modules)\n",
    "        #print(self.model)\n",
    " \n",
    "    def forward(self, x):\n",
    "        x = x.view(x.size(0), -1) # Look this up\n",
    "        output = self.model(x)\n",
    "        return output"
   ]
  },
  {
   "cell_type": "markdown",
   "metadata": {},
   "source": [
    "## Load dataset\n",
    "For us to load the data we will use *torchvision* transforms which allow us to pipeline the preprocessing and augmentation steps. Furthermore torchvision allow us to import the MNIST dataset and create dataloaders for batching, shuffle and multithreading."
   ]
  },
  {
   "cell_type": "code",
   "execution_count": 18,
   "metadata": {
    "tags": []
   },
   "outputs": [],
   "source": [
    "class ToTensor(torchvision.transforms.ToTensor):\n",
    "\n",
    "    def __call__(self, pic):\n",
    "        return super().__call__(np.array(pic, copy=True))\n",
    "\n",
    "transform = torchvision.transforms.Compose(\n",
    "    [torchvision.transforms.ToTensor(),\n",
    "     torchvision.transforms.Normalize((0.5, ), (0.5, ))])\n",
    "\n",
    "trainset = torchvision.datasets.MNIST(root='../data', \n",
    "                                        train=True,\n",
    "                                        download=True,\n",
    "                                        transform=transform)\n",
    "\n",
    "testset = torchvision.datasets.MNIST(root='../data', \n",
    "                                        train=False, \n",
    "                                        download=True, \n",
    "                                        transform=transform)\n",
    "\n",
    "trainloader = torch.utils.data.DataLoader(trainset,\n",
    "                                          batch_size=100,\n",
    "                                          shuffle=True,\n",
    "                                          num_workers=2)\n",
    "\n",
    "testloader = torch.utils.data.DataLoader(testset,\n",
    "                                         batch_size=100,\n",
    "                                         shuffle=False,\n",
    "                                         num_workers=2)"
   ]
  },
  {
   "cell_type": "markdown",
   "metadata": {},
   "source": [
    "## Plot a batch from dataset"
   ]
  },
  {
   "cell_type": "markdown",
   "metadata": {},
   "source": [
    "In order to visualise the dataset we will use the function plot_grid_of_batch in order to plot the data of a batch. "
   ]
  },
  {
   "cell_type": "code",
   "execution_count": 19,
   "metadata": {},
   "outputs": [
    {
     "data": {
      "image/png": "[encoded data removed]",
      "text/plain": [
       "<Figure size 720x720 with 1 Axes>"
      ]
     },
     "metadata": {
      "needs_background": "light"
     },
     "output_type": "display_data"
    }
   ],
   "source": [
    "sample_index = 40\n",
    "plt.figure(figsize=(10,10))\n",
    "plt.imshow(torchvision.utils.make_grid(trainset.data[:sample_index].unsqueeze(1).float(), normalize=True).permute(1,2,0),cmap=plt.cm.gray_r,interpolation='nearest')\n",
    "plt.title(\"MNIST example data\");"
   ]
  },
  {
   "cell_type": "markdown",
   "metadata": {},
   "source": [
    "## Learning framework"
   ]
  },
  {
   "cell_type": "markdown",
   "metadata": {},
   "source": [
    "In this section we will learn to predict with the help of our network. The approach consist of two parts; a training and a validation step.\n",
    "\n",
    "Training consist of 4 stages:\n",
    "1. Compute model's predictions (forward pass)\n",
    "2. Compute the loss, using predictions, labels and a appropriate loss function\n",
    "3. Compute the gradients for every parameter (backpropagation) \n",
    "4. Update the parameters\n",
    "\n",
    "Validation consist of 2 stages:\n",
    "1. Compute model's predictions (forward pass)\n",
    "2. Compute the loss, using predictions, labels and a appropriate loss function"
   ]
  },
  {
   "cell_type": "markdown",
   "metadata": {},
   "source": [
    "## Task 2\n",
    "\n",
    "**TODO:** Implement the steps to run the trainer below"
   ]
  },
  {
   "cell_type": "markdown",
   "metadata": {},
   "source": [
    "## Trainer"
   ]
  },
  {
   "cell_type": "code",
   "execution_count": 28,
   "metadata": {},
   "outputs": [],
   "source": [
    "def trainer(model, epochs):\n",
    "    loss_metric = []\n",
    "    for epoch in range(epochs):\n",
    "        running_loss = 0.0\n",
    "        for i, (inputs, labels) in enumerate(trainloader, 0):\n",
    "            # TODO: zero parameter gradients\n",
    "            optimizer.zero_grad() # Set the gradients to zero before backprop\n",
    "            # TODO: Feed forward\n",
    "            outputs = model.forward(inputs)\n",
    "            \n",
    "            # TODO: Calculate loss\n",
    "            loss = criterion(outputs, labels) # Calculate the loss\n",
    "            \n",
    "            # TODO: Backpropagate\n",
    "            loss.backward() # Backpropagate the error\n",
    "     \n",
    "            # TODO: Optimizer step\n",
    "            optimizer.step() # Update the new gradients\n",
    "        \n",
    "            # print statistics\n",
    "            running_loss += loss.item()\n",
    "            \n",
    "            print(f'[{epoch + 1}, {i+1:4}/{len(trainloader)}] loss: {loss.item():.4}', end='\\r')\n",
    "        loss_metric.append(loss.item()/len(trainloader))\n",
    "    return {'loss':loss_metric}"
   ]
  },
  {
   "cell_type": "markdown",
   "metadata": {},
   "source": [
    "## Configs\n",
    "For this lab we dont have a lot of configs and we keep it simple. We can define our model, number of hidden nodes, optimizer and number of epochs to run."
   ]
  },
  {
   "cell_type": "markdown",
   "metadata": {},
   "source": [
    "## Task 3 \n",
    "**TODO:** Implement;\n",
    "1. Criterion (loss)\n",
    "2. Optimizer\n",
    "\n",
    "## Task 4\n",
    "**TODO:** \n",
    "1. Train the network with the Perceptron model.\n",
    "2. Train the MLP model and see if it performs better than the Perceptron.\n",
    "3. Extend Feedforward with additional hidden nodes until we see that the loss is going down.\n",
    "4. In this task increase the depht (more layers) of the Feedforward network instead of the size of the hidden layer.\n",
    "5. Test different hyperparameters with the MLP model. How did the result change? Is the result better or worse, why? \n",
    "\n",
    "\n",
    "**Questions:** \n",
    "1. How did the Feedforward network perform? \n",
    "2. How did the modified Feedforward network perform? \n",
    "3. Can we reduce number of nodes with an increased number of layers or vise verse, any changes?\n"
   ]
  },
  {
   "cell_type": "code",
   "execution_count": 21,
   "metadata": {},
   "outputs": [],
   "source": [
    "HIDDEN_NODES = 2\n",
    "Percmodel = Perceptron(cfg.IMAGE_WIDTH*cfg.IMAGE_HEIGHT, cfg.NUM_CLASS)# TODO\n",
    "\n",
    "criterion = nn.CrossEntropyLoss() # TODO\n",
    "optimizer = torch.optim.Adam(Percmodel.parameters()) #TODO\n",
    "epochs = 5"
   ]
  },
  {
   "cell_type": "markdown",
   "metadata": {},
   "source": [
    "#### Task 4.1"
   ]
  },
  {
   "cell_type": "code",
   "execution_count": 22,
   "metadata": {},
   "outputs": [
    {
     "name": "stdout",
     "output_type": "stream",
     "text": [
      "[5,  600/600] loss: 0.32746\r"
     ]
    }
   ],
   "source": [
    "# Run the model\n",
    "Percmetrics = trainer(Percmodel, epochs)"
   ]
  },
  {
   "cell_type": "markdown",
   "metadata": {},
   "source": [
    "#### Task 4.2"
   ]
  },
  {
   "cell_type": "code",
   "execution_count": 23,
   "metadata": {},
   "outputs": [
    {
     "name": "stdout",
     "output_type": "stream",
     "text": [
      "Sequential(\n",
      "  (0): Linear(in_features=784, out_features=2, bias=True)\n",
      "  (1): ReLU()\n",
      "  (2): Linear(in_features=2, out_features=10, bias=True)\n",
      ")\n"
     ]
    }
   ],
   "source": [
    "MLPmodel = MLP(cfg.IMAGE_WIDTH*cfg.IMAGE_HEIGHT, cfg.NUM_CLASS, HIDDEN_NODES)\n",
    "optimizer = torch.optim.Adam(MLPmodel.parameters())"
   ]
  },
  {
   "cell_type": "code",
   "execution_count": 24,
   "metadata": {},
   "outputs": [
    {
     "name": "stdout",
     "output_type": "stream",
     "text": [
      "[5,  600/600] loss: 2.301\r"
     ]
    }
   ],
   "source": [
    "MLPmetrics = trainer(MLPmodel, epochs)"
   ]
  },
  {
   "cell_type": "markdown",
   "metadata": {},
   "source": [
    "Lets check the loss over each epoch."
   ]
  },
  {
   "cell_type": "code",
   "execution_count": 25,
   "metadata": {},
   "outputs": [
    {
     "data": {
      "text/plain": [
       "Text(0.5, 1.0, 'Training loss')"
      ]
     },
     "execution_count": 25,
     "metadata": {},
     "output_type": "execute_result"
    },
    {
     "data": {
      "image/png": "[encoded data removed]",
      "text/plain": [
       "<Figure size 432x288 with 1 Axes>"
      ]
     },
     "metadata": {
      "needs_background": "light"
     },
     "output_type": "display_data"
    }
   ],
   "source": [
    "plt.plot(Percmetrics['loss'], label='Perceptron loss')\n",
    "plt.plot(MLPmetrics['loss'], label='MLP loss')\n",
    "plt.legend()\n",
    "plt.title(\"Training loss\")"
   ]
  },
  {
   "cell_type": "markdown",
   "metadata": {},
   "source": [
    "#### Task 4.3"
   ]
  },
  {
   "cell_type": "code",
   "execution_count": 32,
   "metadata": {
    "scrolled": false
   },
   "outputs": [
    {
     "name": "stdout",
     "output_type": "stream",
     "text": [
      "Hidden nodes: 2\n",
      "[5,  600/600] loss: 1.776\n",
      "Hidden nodes: 10\n",
      "[5,  600/600] loss: 0.3247\n",
      "Hidden nodes: 20\n",
      "[5,  600/600] loss: 0.28813\n",
      "Hidden nodes: 50\n",
      "[5,  600/600] loss: 0.25731\n",
      "Hidden nodes: 100\n",
      "[5,  600/600] loss: 0.11287\n",
      "Hidden nodes: 150\n",
      "[5,  600/600] loss: 0.02494\n",
      "Hidden nodes: 200\n",
      "[5,  600/600] loss: 0.07729\n",
      "Hidden nodes: 250\n",
      "[5,  600/600] loss: 0.10946\n"
     ]
    }
   ],
   "source": [
    "for hidden_nodes in [2, 10, 20, 50, 100, 150, 200, 250]:\n",
    "    print(\"Hidden nodes:\", hidden_nodes, end='\\n')\n",
    "    MLPmodel = MLP(cfg.IMAGE_WIDTH*cfg.IMAGE_HEIGHT, cfg.NUM_CLASS, hidden_nodes)\n",
    "    optimizer = torch.optim.Adam(MLPmodel.parameters())\n",
    "    MLPmetrics = trainer(MLPmodel, epochs)\n",
    "    print()"
   ]
  },
  {
   "cell_type": "markdown",
   "metadata": {},
   "source": [
    "#### Task 4.4"
   ]
  },
  {
   "cell_type": "code",
   "execution_count": 33,
   "metadata": {},
   "outputs": [
    {
     "name": "stdout",
     "output_type": "stream",
     "text": [
      "[5,  600/600] loss: 0.05164\r"
     ]
    }
   ],
   "source": [
    "MLPmodel = MLP(cfg.IMAGE_WIDTH*cfg.IMAGE_HEIGHT, cfg.NUM_CLASS, 150, 10)\n",
    "optimizer = torch.optim.Adam(MLPmodel.parameters())\n",
    "MLPmetrics = trainer(MLPmodel, epochs)"
   ]
  },
  {
   "cell_type": "code",
   "execution_count": 89,
   "metadata": {},
   "outputs": [
    {
     "data": {
      "text/plain": [
       "{'loss': [0.0007153716186682383,\n",
       "  0.00028363235294818877,\n",
       "  0.00020042508840560912,\n",
       "  0.00043971473972002667,\n",
       "  0.00013170680652062097]}"
      ]
     },
     "execution_count": 89,
     "metadata": {},
     "output_type": "execute_result"
    }
   ],
   "source": [
    "MLPmetrics"
   ]
  },
  {
   "cell_type": "markdown",
   "metadata": {},
   "source": [
    "#### Task 4.5"
   ]
  },
  {
   "cell_type": "markdown",
   "metadata": {},
   "source": [
    "##### Hyperparameter-tuning"
   ]
  },
  {
   "cell_type": "code",
   "execution_count": 60,
   "metadata": {
    "scrolled": false
   },
   "outputs": [
    {
     "name": "stdout",
     "output_type": "stream",
     "text": [
      "Hidden layers: 2\n",
      "  Hidden nodes: 2\n",
      "[5,  600/600] loss: 1.689\n",
      "  Hidden nodes: 10\n",
      "[5,  600/600] loss: 0.3283\n",
      "  Hidden nodes: 50\n",
      "[5,  600/600] loss: 0.11425\n",
      "  Hidden nodes: 100\n",
      "[5,  600/600] loss: 0.08818\n",
      "\n",
      "Hidden layers: 5\n",
      "  Hidden nodes: 2\n",
      "[5,  600/600] loss: 1.892\n",
      "  Hidden nodes: 10\n",
      "[5,  600/600] loss: 0.2931\n",
      "  Hidden nodes: 50\n",
      "[5,  600/600] loss: 0.05513\n",
      "  Hidden nodes: 100\n",
      "[5,  600/600] loss: 0.16659\n",
      "\n",
      "Hidden layers: 10\n",
      "  Hidden nodes: 2\n",
      "[5,  600/600] loss: 2.311\n",
      "  Hidden nodes: 10\n",
      "[5,  600/600] loss: 0.5962\n",
      "  Hidden nodes: 50\n",
      "[5,  600/600] loss: 0.25849\n",
      "  Hidden nodes: 100\n",
      "[5,  600/600] loss: 0.16068\n",
      "\n",
      "Hidden layers: 30\n",
      "  Hidden nodes: 2\n",
      "[5,  600/600] loss: 2.296\n",
      "  Hidden nodes: 10\n",
      "[5,  600/600] loss: 2.296\n",
      "  Hidden nodes: 50\n",
      "[5,  600/600] loss: 2.298\n",
      "  Hidden nodes: 100\n",
      "[5,  600/600] loss: 2.303\n",
      "\n",
      "Hidden layers: 50\n",
      "  Hidden nodes: 2\n",
      "[5,  600/600] loss: 2.298\n",
      "  Hidden nodes: 10\n",
      "[5,  600/600] loss: 2.304\n",
      "  Hidden nodes: 50\n",
      "[5,  600/600] loss: 2.303\n",
      "  Hidden nodes: 100\n",
      "[5,  600/600] loss: 2.296\n",
      "\n"
     ]
    }
   ],
   "source": [
    "dict_ = {} \n",
    "for hidden_layers in [2, 5, 10, 30, 50]:\n",
    "    print(\"Hidden layers:\", hidden_layers)\n",
    "    for hidden_nodes in [2, 10, 50, 100]:\n",
    "        print(\"  Hidden nodes:\", hidden_nodes)\n",
    "        MLPmodel = MLP(cfg.IMAGE_WIDTH*cfg.IMAGE_HEIGHT, cfg.NUM_CLASS, hidden_nodes, hidden_layers)\n",
    "        optimizer = torch.optim.Adam(MLPmodel.parameters())\n",
    "        MLPmetrics = trainer(MLPmodel, epochs)\n",
    "        key = (hidden_layers, hidden_nodes)\n",
    "        value = MLPmetrics['loss']\n",
    "        if key not in dict_:\n",
    "            dict_[key] = value\n",
    "        print()    \n",
    "    print()    "
   ]
  },
  {
   "cell_type": "code",
   "execution_count": 61,
   "metadata": {},
   "outputs": [],
   "source": [
    "lowestmean = 10000\n",
    "best_values = (None, None)\n",
    "for key in dict_:\n",
    "    mean_ = np.mean(dict_[key])\n",
    "    if mean_ < lowestmean:\n",
    "        lowestmean = mean_\n",
    "        best_values = key    "
   ]
  },
  {
   "cell_type": "code",
   "execution_count": 62,
   "metadata": {},
   "outputs": [
    {
     "name": "stdout",
     "output_type": "stream",
     "text": [
      "lowestmean: 0.0002588305647174517, hidden_layers: 2, hidden_nodes: 100 \n"
     ]
    }
   ],
   "source": [
    "print(\"lowestmean: {}, hidden_layers: {}, hidden_nodes: {} \".format(lowestmean, best_values[0], best_values[1]))"
   ]
  },
  {
   "cell_type": "code",
   "execution_count": 54,
   "metadata": {},
   "outputs": [],
   "source": [
    "hidden_layers, hidden_nodes = best_values"
   ]
  },
  {
   "cell_type": "code",
   "execution_count": 55,
   "metadata": {},
   "outputs": [
    {
     "name": "stdout",
     "output_type": "stream",
     "text": [
      "[5,  600/600] loss: 0.06528\r"
     ]
    }
   ],
   "source": [
    "best_model = MLP(cfg.IMAGE_WIDTH*cfg.IMAGE_HEIGHT, cfg.NUM_CLASS, hidden_nodes, hidden_layers)\n",
    "optimizer = torch.optim.Adam(best_model.parameters())\n",
    "MLPmetrics = trainer(best_model, epochs)"
   ]
  },
  {
   "cell_type": "markdown",
   "metadata": {},
   "source": [
    "##### Less hidden nodes, more hidden layers"
   ]
  },
  {
   "cell_type": "code",
   "execution_count": 65,
   "metadata": {},
   "outputs": [
    {
     "name": "stdout",
     "output_type": "stream",
     "text": [
      "Hidden layers 2\n",
      "[5,  600/600] loss: 0.6445\n",
      "Hidden layers 3\n",
      "[5,  600/600] loss: 1.3728\n",
      "Hidden layers 4\n",
      "[5,  600/600] loss: 1.1259\n",
      "Hidden layers 5\n",
      "[5,  600/600] loss: 0.8558\n",
      "Hidden layers 10\n",
      "[5,  600/600] loss: 1.2381\n",
      "Hidden layers 15\n",
      "[5,  600/600] loss: 1.718\n",
      "Hidden layers 20\n",
      "[5,  600/600] loss: 1.507\n"
     ]
    }
   ],
   "source": [
    "for hidden_layers in [2, 3, 4, 5, 10, 15, 20]:\n",
    "    print(\"Hidden layers\", hidden_layers)\n",
    "    MLPmodel = MLP(cfg.IMAGE_WIDTH*cfg.IMAGE_HEIGHT, cfg.NUM_CLASS, 5, hidden_layers)\n",
    "    optimizer = torch.optim.Adam(MLPmodel.parameters())\n",
    "    MLPmetrics = trainer(MLPmodel, epochs)\n",
    "    print()"
   ]
  },
  {
   "cell_type": "markdown",
   "metadata": {},
   "source": [
    "##### More hidden nodes, less hidden layers"
   ]
  },
  {
   "cell_type": "code",
   "execution_count": 67,
   "metadata": {},
   "outputs": [
    {
     "name": "stdout",
     "output_type": "stream",
     "text": [
      "Hidden layers 2\n",
      "[5,  600/600] loss: 2.302\n",
      "Hidden layers 5\n",
      "[5,  600/600] loss: 0.9675\n",
      "Hidden layers 10\n",
      "[5,  600/600] loss: 0.2463\n",
      "Hidden layers 15\n",
      "[5,  600/600] loss: 0.5265\n",
      "Hidden layers 20\n",
      "[5,  600/600] loss: 0.23153\n",
      "Hidden layers 25\n",
      "[5,  600/600] loss: 0.1923\n",
      "Hidden layers 30\n",
      "[5,  600/600] loss: 0.10265\n",
      "Hidden layers 50\n",
      "[5,  600/600] loss: 0.11551\n",
      "Hidden layers 100\n",
      "[5,  600/600] loss: 0.17797\n"
     ]
    }
   ],
   "source": [
    "for hidden_nodes in [2, 5, 10, 15, 20, 25, 30, 50, 100]:\n",
    "    print(\"Hidden layers\", hidden_nodes)\n",
    "    MLPmodel = MLP(cfg.IMAGE_WIDTH*cfg.IMAGE_HEIGHT, cfg.NUM_CLASS, hidden_nodes, 4)\n",
    "    optimizer = torch.optim.Adam(MLPmodel.parameters())\n",
    "    MLPmetrics = trainer(MLPmodel, epochs)\n",
    "    print()"
   ]
  },
  {
   "cell_type": "markdown",
   "metadata": {},
   "source": [
    "## Testing"
   ]
  },
  {
   "cell_type": "markdown",
   "metadata": {},
   "source": [
    "Lets predict some data to see the performance of a few samples"
   ]
  },
  {
   "cell_type": "code",
   "execution_count": 56,
   "metadata": {},
   "outputs": [],
   "source": [
    "model = best_model"
   ]
  },
  {
   "cell_type": "code",
   "execution_count": 57,
   "metadata": {},
   "outputs": [],
   "source": [
    "dataiter = iter(testloader)\n",
    "images, labels = dataiter.next()\n",
    "outputs = model(images)\n",
    "_, predicted = torch.max(outputs, 1)"
   ]
  },
  {
   "cell_type": "code",
   "execution_count": 58,
   "metadata": {},
   "outputs": [
    {
     "data": {
      "text/html": [
       "<div>\n",
       "<style scoped>\n",
       "    .dataframe tbody tr th:only-of-type {\n",
       "        vertical-align: middle;\n",
       "    }\n",
       "\n",
       "    .dataframe tbody tr th {\n",
       "        vertical-align: top;\n",
       "    }\n",
       "\n",
       "    .dataframe thead th {\n",
       "        text-align: right;\n",
       "    }\n",
       "</style>\n",
       "<table border=\"1\" class=\"dataframe\">\n",
       "  <thead>\n",
       "    <tr style=\"text-align: right;\">\n",
       "      <th></th>\n",
       "      <th>0</th>\n",
       "      <th>1</th>\n",
       "      <th>2</th>\n",
       "      <th>3</th>\n",
       "      <th>4</th>\n",
       "      <th>5</th>\n",
       "      <th>6</th>\n",
       "      <th>7</th>\n",
       "      <th>8</th>\n",
       "      <th>9</th>\n",
       "    </tr>\n",
       "  </thead>\n",
       "  <tbody>\n",
       "    <tr>\n",
       "      <th>Ground Truth</th>\n",
       "      <td>7</td>\n",
       "      <td>2</td>\n",
       "      <td>1</td>\n",
       "      <td>0</td>\n",
       "      <td>4</td>\n",
       "      <td>1</td>\n",
       "      <td>4</td>\n",
       "      <td>9</td>\n",
       "      <td>5</td>\n",
       "      <td>9</td>\n",
       "    </tr>\n",
       "    <tr>\n",
       "      <th>Predicted label</th>\n",
       "      <td>7</td>\n",
       "      <td>2</td>\n",
       "      <td>1</td>\n",
       "      <td>0</td>\n",
       "      <td>4</td>\n",
       "      <td>1</td>\n",
       "      <td>4</td>\n",
       "      <td>9</td>\n",
       "      <td>8</td>\n",
       "      <td>9</td>\n",
       "    </tr>\n",
       "  </tbody>\n",
       "</table>\n",
       "</div>"
      ],
      "text/plain": [
       "                 0  1  2  3  4  5  6  7  8  9\n",
       "Ground Truth     7  2  1  0  4  1  4  9  5  9\n",
       "Predicted label  7  2  1  0  4  1  4  9  8  9"
      ]
     },
     "metadata": {},
     "output_type": "display_data"
    },
    {
     "name": "stderr",
     "output_type": "stream",
     "text": [
      "Clipping input data to the valid range for imshow with RGB data ([0..1] for floats or [0..255] for integers).\n"
     ]
    },
    {
     "data": {
      "text/plain": [
       "<matplotlib.image.AxesImage at 0x7fca67b039a0>"
      ]
     },
     "execution_count": 58,
     "metadata": {},
     "output_type": "execute_result"
    },
    {
     "data": {
      "image/png": "[encoded data removed]",
      "text/plain": [
       "<Figure size 432x288 with 1 Axes>"
      ]
     },
     "metadata": {
      "needs_background": "light"
     },
     "output_type": "display_data"
    }
   ],
   "source": [
    "n_test = 10\n",
    "df_result = pd.DataFrame({\n",
    "    'Ground Truth': labels[:n_test],\n",
    "    'Predicted label': predicted[:n_test]})\n",
    "display(df_result.T)\n",
    "plt.imshow(torchvision.utils.make_grid(images[:n_test, :, :, :], nrow=n_test).permute(1,2,0))"
   ]
  },
  {
   "cell_type": "code",
   "execution_count": null,
   "metadata": {},
   "outputs": [],
   "source": []
  }
 ],
 "metadata": {
  "interpreter": {
   "hash": "4ccf88e37874d44b4dfe33c31e1bb4a10ca4e414e0a68744582aebd290f71bcd"
  },
  "kernelspec": {
   "display_name": "Python 3",
   "language": "python",
   "name": "python3"
  },
  "language_info": {
   "codemirror_mode": {
    "name": "ipython",
    "version": 3
   },
   "file_extension": ".py",
   "mimetype": "text/x-python",
   "name": "python",
   "nbconvert_exporter": "python",
   "pygments_lexer": "ipython3",
   "version": "3.8.3"
  },
  "toc-autonumbering": true,
  "toc-showcode": false,
  "toc-showmarkdowntxt": false,
  "toc-showtags": true
 },
 "nbformat": 4,
 "nbformat_minor": 4
}
