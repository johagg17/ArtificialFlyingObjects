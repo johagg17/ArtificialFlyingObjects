{
 "cells": [
  {
   "cell_type": "markdown",
   "metadata": {},
   "source": [
    "<center><h1 style=\"font-size:40px;\">Exercise I:<br> Backpropagation in Numpy\n",
    "</h1></center>\n",
    "\n",
    "---\n"
   ]
  },
  {
   "cell_type": "markdown",
   "metadata": {},
   "source": [
    "Welcome to the first lab for Deep Learning!\n",
    "\n",
    "In this lab we will scratch the surface of deep learning. For the first part of this lab we are going to introduce the concept of deep learning. For this lab we will perform and train a network with the help of Numpy to get an idea of how a neural network works.\n",
    "\n",
    "For this lab all tasks include **TODO's** these are expected to be done before the deadline. The labs also include **Question** which should be answered and included in the report. To give a hand if the answer is correct a few asserts and expected results are given. Some sections does not contain any **TODO's** but is good to understand them. \n",
    "\n",
    "\n",
    "Good luck!\n",
    "\n",
    "---"
   ]
  },
  {
   "cell_type": "markdown",
   "metadata": {},
   "source": [
    "## Neuron\n",
    "A neuron is a part of a neural network and in it simplest form we can define it as a perceptron. A perceptron can solve binary problems based on $x_{p}$ number of inputs. In other words, problems that can be solved with a linear function.\n",
    "\n",
    "The math for the perceptron or a single neuron are defined as; $y(x,w) = p_{0}(\\sum_{k=1}^{P} w_{k}x_{k} + w_{0}) = \\sum_{k=0}^{P} w_{k}x_{k} = p_{0}(w^{T}x)$ where $p_{0}$ is an activation function to introduce non-linearity into the output of a neuron. For the image below the concept of bias is used and corresponds to $w_{0}$ in the equation above.\n",
    "\n",
    "<center><img src=\"../data/images/activation_node.png\" width=\"600\"></center>"
   ]
  },
  {
   "cell_type": "markdown",
   "metadata": {},
   "source": [
    "## MLP\n",
    "In order to extend from a binary problem we can define a multi-layer perceptron (MLP) that consist of at least one one hidden layer. Each layer can in turn consist of multiple neurons. \n",
    "\n",
    "In this lab we will create a Feedforward Multilayer network. This will consist of a backpropagation algorithm (SGD with the chain rule) which allow us to calculate partial derivatives in terms of other partial derivatives. The backpropagation algorithm will use sigmoid activation function (binary) between the layers and the final layer to classification uses softmax (multi-class).\n",
    "<center><img src=\"../data/images/MLP.PNG\" width=\"600\"></center>\n"
   ]
  },
  {
   "cell_type": "markdown",
   "metadata": {},
   "source": [
    "## Imports"
   ]
  },
  {
   "cell_type": "code",
   "execution_count": 1,
   "metadata": {},
   "outputs": [],
   "source": [
    "import numpy as np\n",
    "import matplotlib.pyplot as plt\n",
    "import numpy as np\n",
    "from sklearn.datasets import load_digits\n",
    "from sklearn import preprocessing\n",
    "from sklearn.model_selection import train_test_split\n",
    "\n",
    "import torchvision\n",
    "import torch"
   ]
  },
  {
   "cell_type": "code",
   "execution_count": 2,
   "metadata": {},
   "outputs": [
    {
     "data": {
      "text/plain": [
       "'1.19.2'"
      ]
     },
     "execution_count": 2,
     "metadata": {},
     "output_type": "execute_result"
    }
   ],
   "source": [
    "np.version.version"
   ]
  },
  {
   "cell_type": "markdown",
   "metadata": {},
   "source": [
    "# Load dataset\n",
    "The first step is to import the dataset. We will focus on the digits dataset from sklearn."
   ]
  },
  {
   "cell_type": "code",
   "execution_count": 2,
   "metadata": {},
   "outputs": [],
   "source": [
    "digits = load_digits()\n",
    "\n",
    "data = np.asarray(digits.data, dtype='float32')\n",
    "target = np.asarray(digits.target, dtype='int32')\n",
    "\n",
    "X_train, X_test, y_train, y_test = train_test_split(data, target, test_size=0.15, random_state=37)\n",
    "\n",
    "scaler = preprocessing.StandardScaler()\n",
    "X_train = scaler.fit_transform(X_train)\n",
    "X_test = scaler.transform(X_test)"
   ]
  },
  {
   "cell_type": "code",
   "execution_count": 3,
   "metadata": {},
   "outputs": [
    {
     "data": {
      "image/png": "[encoded data removed]",
      "text/plain": [
       "<Figure size 720x720 with 1 Axes>"
      ]
     },
     "metadata": {
      "needs_background": "light"
     },
     "output_type": "display_data"
    }
   ],
   "source": [
    "sample_index = 40\n",
    "plt.figure(figsize=(10,10))\n",
    "plt.imshow(torchvision.utils.make_grid(torch.from_numpy(digits.images[:sample_index]).unsqueeze(1), normalize=True).permute(1,2,0),cmap=plt.cm.gray_r,interpolation='nearest')\n",
    "plt.title(\"MNIST example data\");"
   ]
  },
  {
   "cell_type": "markdown",
   "metadata": {},
   "source": [
    "# Implement Neural network\n",
    "This section we will implement a neural network. We will first implement the individual functions to ensure that they are correct and then we will add them to the neural network class before we start training the model."
   ]
  },
  {
   "cell_type": "markdown",
   "metadata": {},
   "source": [
    "## Predefined settings\n",
    "Here we define some settings that we will use later. \n",
    "\n",
    "* EPSILON: To avoid instability if probability equals 0. \n",
    "* INPUT_SIZE: Define the shape of our input.\n",
    "* HIDDEN_SIZE: Number of neurons in the hidden layer.\n",
    "* OUTPUT_SIZE: Number of classes for calculate probability."
   ]
  },
  {
   "cell_type": "code",
   "execution_count": 4,
   "metadata": {},
   "outputs": [],
   "source": [
    "# Creating data set\n",
    "EPSILON = 1e-6\n",
    "INPUT_SIZE = X_train.shape[1]\n",
    "HIDDEN_SIZE = 10\n",
    "OUTPUT_SIZE = len(np.unique(y_train))"
   ]
  },
  {
   "cell_type": "markdown",
   "metadata": {},
   "source": [
    "## One-hot encoding\n",
    "To differentiate between the classes from the dataset we one-hot encode the labels based on the unique length of the labels."
   ]
  },
  {
   "cell_type": "code",
   "execution_count": 5,
   "metadata": {},
   "outputs": [],
   "source": [
    "def one_hot(n_classes, y):\n",
    "    return np.eye(n_classes)[y]"
   ]
  },
  {
   "cell_type": "markdown",
   "metadata": {},
   "source": [
    "## Activation function\n",
    "First task is to define the activation functions. Below is three function that should be implemented. Verify the output based on the given input.\n",
    "\n",
    "1. **TODO:** Implement sigmoid \n",
    "2. **TODO:** Implement dsigmoid which is the element-wise derivitate of sigmoid \n",
    "3. **TODO:** Implement softmax \n",
    "\n",
    "$\n",
    "sigmoid(x) = \\frac{1}{1 + e^{-x}}\n",
    "$\n",
    "\n",
    "$\n",
    "dsigmoid(x) = sigmoid(x) \\cdot (1 - sigmoid(x))\n",
    "$\n",
    "\n",
    "$\n",
    "softmax(\\mathbf{x}) = \\frac{1}{\\sum_{i=1}^{n}{e^{x_i}}}\n",
    "\\cdot\n",
    "\\begin{bmatrix}\n",
    "  e^{x_1}\\\\\\\\\n",
    "  e^{x_2}\\\\\\\\\n",
    "  \\vdots\\\\\\\\\n",
    "  e^{x_n}\n",
    "\\end{bmatrix}\n",
    "$"
   ]
  },
  {
   "cell_type": "code",
   "execution_count": 6,
   "metadata": {},
   "outputs": [],
   "source": [
    "def sigmoid(x):\n",
    "    return (1 / (1 + np.exp(-x)))"
   ]
  },
  {
   "cell_type": "code",
   "execution_count": 7,
   "metadata": {},
   "outputs": [],
   "source": [
    "def dsigmoid(X):\n",
    "    return sigmoid(X)*(1 - sigmoid(X))"
   ]
  },
  {
   "cell_type": "code",
   "execution_count": 8,
   "metadata": {},
   "outputs": [],
   "source": [
    "def softmax(X):\n",
    "    X = np.array(X)\n",
    "    exp_ = np.exp(X)\n",
    "    if X.shape == (X.shape[0], ):\n",
    "        return exp_ / exp_.sum()\n",
    "    return exp_ / np.sum(exp_,axis=1, keepdims=True)"
   ]
  },
  {
   "cell_type": "markdown",
   "metadata": {},
   "source": [
    "To test the models. Run the following code and see if the plot is the same as the expected result."
   ]
  },
  {
   "cell_type": "code",
   "execution_count": 9,
   "metadata": {},
   "outputs": [
    {
     "data": {
      "image/png": "[encoded data removed]",
      "text/plain": [
       "<Figure size 432x288 with 1 Axes>"
      ]
     },
     "metadata": {
      "needs_background": "light"
     },
     "output_type": "display_data"
    }
   ],
   "source": [
    "x = np.linspace(-5, 5, 100)\n",
    "plt.plot(x, sigmoid(x), label='sigmoid')\n",
    "plt.plot(x, dsigmoid(x), label='dsigmoid')\n",
    "plt.legend(loc='best');"
   ]
  },
  {
   "cell_type": "markdown",
   "metadata": {},
   "source": [
    "### Expected result - sigmoid and dsigmoid\n",
    "<img src=\"data:image/png;base64,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\" width=\"370\">\n"
   ]
  },
  {
   "cell_type": "markdown",
   "metadata": {},
   "source": [
    "### Test Softmax\n",
    "The verification of the softmax we can run the asserts to see if the result are the same. "
   ]
  },
  {
   "cell_type": "code",
   "execution_count": 10,
   "metadata": {
    "scrolled": false
   },
   "outputs": [],
   "source": [
    "X = np.array([[10, 2, -3],\n",
    "              [-1, 5, -20]])\n",
    "\n",
    "assert np.allclose(softmax([10, 2, -3]), [9.99662391e-01, 3.35349373e-04, 2.25956630e-06]), \"Wrong answer!\"\n",
    "assert np.allclose(softmax(X),[[9.99662391e-01, 3.35349373e-04, 2.25956630e-06],[2.47262316e-03, 9.97527377e-01, 1.38536042e-11]]), \"Wrong answer!\"\n",
    "assert (np.sum(softmax(X), axis=1) == [1,1]).all(), \"Probability not equal to 1\""
   ]
  },
  {
   "cell_type": "markdown",
   "metadata": {},
   "source": [
    "## Loss function.\n",
    "\n",
    "\n",
    "**TODO:** Implement the negative log likelihood defined as:\n",
    "$L=−\\frac{1}{n}\\sum_{x}^{n}(ln(a_{y}^{L}))$"
   ]
  },
  {
   "cell_type": "code",
   "execution_count": 11,
   "metadata": {},
   "outputs": [],
   "source": [
    "def nll(Y_true, Y_pred):\n",
    "    \n",
    "    Y_true = np.array(Y_true)\n",
    "    Y_pred = np.array(Y_pred)\n",
    "    #print(Y_true.shape)\n",
    "    logs = np.log(np.sum(Y_true*Y_pred, axis=-1) + EPSILON) # axis=-1 is used in order to calculate for only 1d arrays\n",
    "    return -np.sum(logs) if Y_true.shape == (Y_pred.shape[0], ) else -np.sum(logs) / Y_true.shape[0]"
   ]
  },
  {
   "cell_type": "markdown",
   "metadata": {},
   "source": [
    "### Test nll\n",
    "The verification of the nll we can run the asserts to see if the result are the same. "
   ]
  },
  {
   "cell_type": "code",
   "execution_count": 12,
   "metadata": {
    "scrolled": true
   },
   "outputs": [],
   "source": [
    "assert nll([1, 0, 0], [.99, 0.01, 0]) == 0.010049325753001472, \"Wrong output!\"\n",
    "\n",
    "Y_true = np.array([[0, 1, 0],[1, 0, 0],[0, 0, 1]])\n",
    "Y_pred = np.array([[0, 1, 0],[.99, 0.01, 0], [0, 0, 1]])\n",
    "\n",
    "assert nll(Y_true, Y_pred) == 0.0033491085846672117, \"Wrong output!\""
   ]
  },
  {
   "cell_type": "markdown",
   "metadata": {},
   "source": [
    "## Feedforward\n",
    "The feedforward function is defined with two things; \n",
    "\n",
    "* $\\mathbf{h} = sigmoid(\\mathbf{W}^h \\mathbf{x} + \\mathbf{b^h})$\n",
    "* $\\mathbf{y} = softmax(\\mathbf{W}^o \\mathbf{h} + \\mathbf{b^o})$\n",
    "\n",
    "The hidden layer will use sigmoid as activation function but for final classification we will use softmax.\n",
    "In case we want to observe the activations we can enable **keep_activations**. If enabled, return; \n",
    "* y (output activations),\n",
    "* h (hidden layer activations),\n",
    "* z_h (weights for hidden layer) \n",
    "otherwise return y.\n",
    "\n",
    "**TODO:** Implement the forward function for $h$, $y$ and $z\\_h$"
   ]
  },
  {
   "cell_type": "code",
   "execution_count": 13,
   "metadata": {},
   "outputs": [],
   "source": [
    "def forward(X, keep_activations=False):\n",
    "    \n",
    "    h = sigmoid(X @ W_h + b_h)\n",
    "    y = softmax(h @ W_o + b_o)\n",
    "    \n",
    "    z_h = X @ W_h + b_h\n",
    "    \n",
    "    if keep_activations:\n",
    "        return y, h, z_h\n",
    "    else:\n",
    "        return y"
   ]
  },
  {
   "cell_type": "markdown",
   "metadata": {},
   "source": [
    "## Init weights\n",
    "Random init of weights $W$. To help the architecture we can define random initiation of weights. \n",
    "\n",
    "* W_h: Weights for the hidden layer \n",
    "* b_h: Bias for the hidden layer \n",
    "* W_o: Weight for the output \n",
    "* b_o: Bias for the output"
   ]
  },
  {
   "cell_type": "code",
   "execution_count": 14,
   "metadata": {},
   "outputs": [],
   "source": [
    "W_h = np.random.uniform(size=(INPUT_SIZE, HIDDEN_SIZE), high=0.01, low=-0.01)\n",
    "b_h = np.zeros(HIDDEN_SIZE)\n",
    "W_o = np.random.uniform(size=(HIDDEN_SIZE, OUTPUT_SIZE), high=0.01, low=-0.01)\n",
    "b_o = np.zeros(OUTPUT_SIZE)"
   ]
  },
  {
   "cell_type": "markdown",
   "metadata": {},
   "source": [
    "## Backpropagation\n",
    "To get a reminder of backpropagation take a look at this [explaination](https://dfdazac.github.io/06-neural-networks-numpy.html). Below we summarize the calculation of one node w_{iL}. \n",
    "\n",
    "We have a loss function $\\mathcal{L}(\\theta)$ for the negative log likelihood over a single observation $\\mathcal{L}(\\theta) = -\\log(softmax(W \\dot x + b)) = -z_{kL} + log(Z)$. Observe that we skipped a few steps for this so please take a closer look at the *explaination*.\n",
    "The loss $\\mathcal{L}$  is a function of the quantity $z_{iL}$, which is a function of the weights $w_{iL}$ of unit $i$ in the layer $L$. Therefore, to obtain the gradient of the loss with respect to the weights $w_{iL}$. Therefore, we must use the chain rule to calculate:\n",
    "\n",
    "$$\\frac{\\partial \\mathcal{L}}{\\partial w_{iL}} = \\frac{\\partial \\mathcal{L}}{\\partial z_{iL}} \\frac{\\partial z_{iL}}{\\partial w_{iL}}$$\n",
    "\n",
    "$\\frac{\\partial \\mathcal{L}}{\\partial w_{iL}}$ Indicates the first derivate and the second derivate through $\\frac{\\partial z_{iL}}{\\partial w_{iL}}$. This give us:\n",
    "\n",
    "$$\\frac{\\partial \\mathcal{L}}{\\partial w_{iL}} = \\frac{\\partial \\mathcal{L}}{\\partial z_{iL}}a_{L-1}$$\n",
    "\n",
    "\n",
    "This means that for all weight vectors $w_{iL}$, the gradient is obtained by multiplying the activation vector of the previous layer by the derivative \n",
    "$\\frac{\\partial \\mathcal{L}}{\\partial z_{iL}}$\n",
    "\n",
    "If we take the derivatives $\\frac{\\partial \\mathcal{L}}{\\partial z_{iL}}$, for i = 1,...,K, in a column vector $\\frac{\\partial \\mathcal{L}}{\\partial z_{L}}$, then the gradient matrix can be calculated in a compact way using an **outer** product of vectors:\n",
    "\n",
    "$$\\nabla w_{L}\\mathcal{L} = \\frac{\\partial \\mathcal{L}}{\\partial z_{L}}a^{T}_{L-1}$$\n",
    "\n",
    "Now we have the equation derivate for a single node $w_{iL}$\n",
    "\n",
    "**TODO:** Calculate the gradient loss $\\frac{d}{dW} -\\log(softmax(W \\dot x + b))$. Where $x$ is the input and y is the truth values.\n",
    "\n",
    "**TODO:** Implement the gradient loss function for; \n",
    "* grad_W_h - Weight gradient of hidden layer\n",
    "* grad_W_o - Weight gradient of output layer\n",
    "* grad_b_h - Bias gradient of hidden layer\n",
    "* grad_b_o - Bias gradient of output layer\n",
    "\n",
    "**Hint:** Dot product and dsigmoid might prove helpful"
   ]
  },
  {
   "cell_type": "code",
   "execution_count": 15,
   "metadata": {},
   "outputs": [],
   "source": [
    "def grad_loss(x, y_true):\n",
    "    \n",
    "    y, h, z_h = forward(x, keep_activations=True)\n",
    "    errors_out = y - one_hot(OUTPUT_SIZE, y_true)\n",
    "\n",
    "    grad_W_o = np.outer(h, errors_out)\n",
    "    grad_b_o = np.mean(errors_out)\n",
    "\n",
    "    grad_W_h = np.outer(x, (errors_out @ W_o.T) * dsigmoid(z_h))\n",
    "    grad_b_h = np.mean(((errors_out @ W_o.T) * dsigmoid(z_h)))\n",
    "\n",
    "    grads = {\"W_h\": grad_W_h, \"b_h\": grad_b_h,\n",
    "             \"W_o\": grad_W_o, \"b_o\": grad_b_o}\n",
    "    return grads"
   ]
  },
  {
   "cell_type": "markdown",
   "metadata": {},
   "source": [
    "## SGD\n",
    "Uses the grad function output to update $W$ and $b$\n",
    "\n",
    "**TODO:** Implement SGD to update the weights provided from **grad_loss function** with $W_{l} = W_{l}-\\alpha \\nabla w_{l}\\mathcal{L}(\\theta)$ where $\\mathcal{L}(\\theta)$ is the loss function, $\\alpha$ is the learning rate and $w$ is the weight at layer l in L."
   ]
  },
  {
   "cell_type": "code",
   "execution_count": 16,
   "metadata": {},
   "outputs": [],
   "source": [
    "def SGD(x, y, learning_rate):\n",
    "    # TODO\n",
    "    grads = grad_loss(x, y)\n",
    "    W_h = W_h - learning_rate * grads[\"W_h\"]\n",
    "    b_h = b_h - learning_rate * grads[\"b_h\"]\n",
    "    W_o = W_o - learning_rate * grads[\"W_o\"]\n",
    "    b_o = b_o - learning_rate * grads[\"b_o\"]"
   ]
  },
  {
   "cell_type": "markdown",
   "metadata": {
    "tags": []
   },
   "source": [
    "## Loss\n",
    "Combine the nll with one-hot encoding and the predicted value from the the forward function to test the implementation."
   ]
  },
  {
   "cell_type": "code",
   "execution_count": 17,
   "metadata": {
    "tags": []
   },
   "outputs": [],
   "source": [
    "def loss(X, y):\n",
    "    return nll(one_hot(OUTPUT_SIZE, y), forward(X))"
   ]
  },
  {
   "cell_type": "markdown",
   "metadata": {},
   "source": [
    "## Predict\n",
    "To predict we calculate the indices of the maximum values along an axis. on the forward pass. However we need to consider if the input is 1D (one input) or 2D (multiple inputs). We therefore check if len(X.shape) == 1, otherwise we extract the indices of the maximum values along axis=1."
   ]
  },
  {
   "cell_type": "code",
   "execution_count": 18,
   "metadata": {},
   "outputs": [],
   "source": [
    "def predict(X):\n",
    "    return np.argmax(forward(X)) if len(X.shape) == 1 else np.argmax(forward(X), axis=1)"
   ]
  },
  {
   "cell_type": "markdown",
   "metadata": {},
   "source": [
    "## Metric\n",
    "To evaluate the network we are going to use accuracy."
   ]
  },
  {
   "cell_type": "code",
   "execution_count": 19,
   "metadata": {},
   "outputs": [],
   "source": [
    "def accuracy(y_preds, y_truth):\n",
    "    return np.mean(y_preds == y_truth)"
   ]
  },
  {
   "cell_type": "markdown",
   "metadata": {},
   "source": [
    "## Neural network\n",
    "Now to combine all previous steps into this class. Note that the function should now include **self** to access the internal memory of the weights."
   ]
  },
  {
   "cell_type": "code",
   "execution_count": 20,
   "metadata": {},
   "outputs": [],
   "source": [
    "class NeuralNet():\n",
    "    \"\"\"MLP with 1 hidden layer with a sigmoid activation\"\"\"\n",
    "\n",
    "    def __init__(self, input_size, hidden_size, output_size):\n",
    "        self.W_h = np.random.uniform(size=(input_size, hidden_size), high=0.01, low=-0.01)\n",
    "        self.b_h = np.zeros(hidden_size)\n",
    "        self.W_o = np.random.uniform(size=(hidden_size, output_size), high=0.01, low=-0.01)\n",
    "        self.b_o = np.zeros(output_size)\n",
    "        self.output_size = output_size\n",
    "\n",
    "    def forward(self, X, keep_activations=False):\n",
    "        \n",
    "        h = sigmoid(X @ self.W_h + self.b_h)\n",
    "        y = softmax(h @ self.W_o + self.b_o)\n",
    "    \n",
    "        z_h = X @ self.W_h + self.b_h\n",
    "        \n",
    "        if keep_activations:\n",
    "            return y, h, z_h\n",
    "        else:\n",
    "            return y\n",
    "\n",
    "    def loss(self, X, y):\n",
    "        return nll(one_hot(self.output_size, y), self.forward(X))\n",
    "\n",
    "    def grad_loss(self, x, y_true):\n",
    "        \n",
    "        y, h, z_h = self.forward(x, keep_activations=True)\n",
    "        errors_out = y - one_hot(self.output_size, y_true)\n",
    "\n",
    "        grad_W_o = np.outer(h, errors_out)\n",
    "        grad_b_o = np.mean(errors_out)\n",
    "\n",
    "        grad_W_h = np.outer(x, (errors_out @ self.W_o.T) * dsigmoid(z_h))\n",
    "        grad_b_h = np.mean(((errors_out @ self.W_o.T) * dsigmoid(z_h)))\n",
    "\n",
    "        grads = {\"W_h\": grad_W_h, \"b_h\": grad_b_h,\n",
    "                 \"W_o\": grad_W_o, \"b_o\": grad_b_o}\n",
    "        \n",
    "        return grads\n",
    "\n",
    "    def SGD(self, x, y, learning_rate):\n",
    "        #TODO\n",
    "        grads = self.grad_loss(x, y)\n",
    "        self.W_h = self.W_h - learning_rate * grads[\"W_h\"]\n",
    "        self.b_h = self.b_h - learning_rate * grads[\"b_h\"]\n",
    "        self.W_o = self.W_o - learning_rate * grads[\"W_o\"]\n",
    "        self.b_o = self.b_o - learning_rate * grads[\"b_o\"]\n",
    "\n",
    "\n",
    "    def predict(self, X):\n",
    "        return np.argmax(self.forward(X)) if len(X.shape) == 1 else np.argmax(self.forward(X), axis=1)"
   ]
  },
  {
   "cell_type": "markdown",
   "metadata": {},
   "source": [
    "## Training\n",
    "From this point everything above should be implemented and therefore we can define our neural network and try to run it. "
   ]
  },
  {
   "cell_type": "code",
   "execution_count": 21,
   "metadata": {},
   "outputs": [],
   "source": [
    "model = NeuralNet(INPUT_SIZE, HIDDEN_SIZE, OUTPUT_SIZE)"
   ]
  },
  {
   "cell_type": "code",
   "execution_count": 22,
   "metadata": {},
   "outputs": [
    {
     "name": "stderr",
     "output_type": "stream",
     "text": [
      "<ipython-input-19-af0353f585f6>:2: DeprecationWarning: elementwise comparison failed; this will raise an error in the future.\n",
      "  return np.mean(y_preds == y_truth)\n"
     ]
    },
    {
     "name": "stdout",
     "output_type": "stream",
     "text": [
      "Random init: train loss: 2.30250, train acc: 0.000, test acc: 0.000\n",
      "Epoch 14, train loss: 0.02288, train acc: 0.998, test acc: 0.948\r"
     ]
    }
   ],
   "source": [
    "losses, accuracies, accuracies_test = [loss(X_train, y_train)], [accuracy(X_train, y_train)], [accuracy(X_test, y_test)]\n",
    "\n",
    "print(f\"Random init: train loss: {losses[-1]:0.5f}, train acc: {accuracies[-1]:0.3f}, test acc: {accuracies_test[-1]:0.3f}\")\n",
    "\n",
    "for epoch in range(15):\n",
    "    for i, (x, y) in enumerate(zip(X_train, y_train)):\n",
    "        model.SGD(x, y, 0.1)\n",
    "\n",
    "    losses.append(model.loss(X_train, y_train))\n",
    "    accuracies.append(accuracy(model.predict(X_train),y_train))\n",
    "    accuracies_test.append(accuracy(model.predict(X_test),y_test))\n",
    "    \n",
    "    print(f\"Epoch {epoch:d}, train loss: {losses[-1]:0.5f}, train acc: {accuracies[-1]:0.3f}, test acc: {accuracies_test[-1]:0.3f}\", end=\"\\r\")"
   ]
  },
  {
   "cell_type": "markdown",
   "metadata": {},
   "source": [
    "## Visualize the result\n",
    "With the help of the following plots we can observe the performance of our neural network. "
   ]
  },
  {
   "cell_type": "code",
   "execution_count": 23,
   "metadata": {},
   "outputs": [
    {
     "data": {
      "image/png": "[encoded data removed]",
      "text/plain": [
       "<Figure size 1080x360 with 2 Axes>"
      ]
     },
     "metadata": {
      "needs_background": "light"
     },
     "output_type": "display_data"
    }
   ],
   "source": [
    "fig, (ax0,ax1) = plt.subplots(1,2, figsize=(15,5))\n",
    "ax0.plot(losses)\n",
    "ax0.set_title(\"Training loss\");\n",
    "\n",
    "ax1.plot(accuracies, label='train')\n",
    "ax1.plot(accuracies_test, label='test')\n",
    "ax1.set_ylim(0, 1.1)\n",
    "ax1.set_ylabel(\"accuracy\")\n",
    "ax1.legend(loc='best');\n",
    "ax1.set_title(\"Accuracy\");"
   ]
  },
  {
   "cell_type": "markdown",
   "metadata": {},
   "source": [
    "## Expected result\n",
    "<img src=\"data:image/png;base64,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\" width=\"870\">\n"
   ]
  },
  {
   "cell_type": "markdown",
   "metadata": {},
   "source": [
    "**Question:** Can the result be improved? \\\n",
    "**Question:** How many epochs are reasonable to run?\\\n",
    "**Question:** How does the performance change if we modify the learning rate?\\"
   ]
  },
  {
   "cell_type": "markdown",
   "metadata": {},
   "source": [
    "## End\n",
    "Now we have sucessfully trained a neural network! Assume it took some time to implement and the complexity would increase if we tried to make the architecture deeper by adding more layers a framework is more suited than manual implementation. Continue to part two to learn an easier way to implement a neural network! "
   ]
  }
 ],
 "metadata": {
  "kernelspec": {
   "display_name": "Python 3",
   "language": "python",
   "name": "python3"
  },
  "language_info": {
   "codemirror_mode": {
    "name": "ipython",
    "version": 3
   },
   "file_extension": ".py",
   "mimetype": "text/x-python",
   "name": "python",
   "nbconvert_exporter": "python",
   "pygments_lexer": "ipython3",
   "version": "3.8.3"
  }
 },
 "nbformat": 4,
 "nbformat_minor": 5
}
